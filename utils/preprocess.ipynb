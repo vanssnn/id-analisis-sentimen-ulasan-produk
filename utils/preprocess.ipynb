{
 "cells": [
  {
   "cell_type": "markdown",
   "metadata": {},
   "source": [
    "Use environment from ***analysis.ipynb***"
   ]
  },
  {
   "cell_type": "markdown",
   "metadata": {},
   "source": [
    "# Load Dataset"
   ]
  },
  {
   "cell_type": "code",
   "execution_count": 92,
   "metadata": {},
   "outputs": [],
   "source": [
    "import pandas as pd"
   ]
  },
  {
   "cell_type": "code",
   "execution_count": 93,
   "metadata": {},
   "outputs": [
    {
     "data": {
      "text/html": [
       "<div>\n",
       "<style scoped>\n",
       "    .dataframe tbody tr th:only-of-type {\n",
       "        vertical-align: middle;\n",
       "    }\n",
       "\n",
       "    .dataframe tbody tr th {\n",
       "        vertical-align: top;\n",
       "    }\n",
       "\n",
       "    .dataframe thead th {\n",
       "        text-align: right;\n",
       "    }\n",
       "</style>\n",
       "<table border=\"1\" class=\"dataframe\">\n",
       "  <thead>\n",
       "    <tr style=\"text-align: right;\">\n",
       "      <th></th>\n",
       "      <th>Category</th>\n",
       "      <th>Product Name</th>\n",
       "      <th>Location</th>\n",
       "      <th>Price</th>\n",
       "      <th>Overall Rating</th>\n",
       "      <th>Number Sold</th>\n",
       "      <th>Total Review</th>\n",
       "      <th>Customer Rating</th>\n",
       "      <th>Customer Review</th>\n",
       "      <th>Sentiment</th>\n",
       "      <th>Emotion</th>\n",
       "    </tr>\n",
       "  </thead>\n",
       "  <tbody>\n",
       "    <tr>\n",
       "      <th>0</th>\n",
       "      <td>Computers and Laptops</td>\n",
       "      <td>Wireless Keyboard i8 Mini TouchPad Mouse 2.4G ...</td>\n",
       "      <td>Jakarta Utara</td>\n",
       "      <td>53500</td>\n",
       "      <td>4.9</td>\n",
       "      <td>5449</td>\n",
       "      <td>2369</td>\n",
       "      <td>5</td>\n",
       "      <td>Alhamdulillah berfungsi dengan baik. Packaging...</td>\n",
       "      <td>Positive</td>\n",
       "      <td>Happy</td>\n",
       "    </tr>\n",
       "    <tr>\n",
       "      <th>1</th>\n",
       "      <td>Computers and Laptops</td>\n",
       "      <td>PAKET LISENSI WINDOWS 10 PRO DAN OFFICE 2019 O...</td>\n",
       "      <td>Kota Tangerang Selatan</td>\n",
       "      <td>72000</td>\n",
       "      <td>4.9</td>\n",
       "      <td>2359</td>\n",
       "      <td>1044</td>\n",
       "      <td>5</td>\n",
       "      <td>barang bagus dan respon cepat, harga bersaing ...</td>\n",
       "      <td>Positive</td>\n",
       "      <td>Happy</td>\n",
       "    </tr>\n",
       "    <tr>\n",
       "      <th>2</th>\n",
       "      <td>Computers and Laptops</td>\n",
       "      <td>SSD Midasforce 128 Gb - Tanpa Caddy</td>\n",
       "      <td>Jakarta Barat</td>\n",
       "      <td>213000</td>\n",
       "      <td>5.0</td>\n",
       "      <td>12300</td>\n",
       "      <td>3573</td>\n",
       "      <td>5</td>\n",
       "      <td>barang bagus, berfungsi dengan baik, seler ram...</td>\n",
       "      <td>Positive</td>\n",
       "      <td>Happy</td>\n",
       "    </tr>\n",
       "    <tr>\n",
       "      <th>3</th>\n",
       "      <td>Computers and Laptops</td>\n",
       "      <td>ADAPTOR CHARGER MONITOR LCD LED TV LG merek LG...</td>\n",
       "      <td>Jakarta Timur</td>\n",
       "      <td>55000</td>\n",
       "      <td>4.7</td>\n",
       "      <td>2030</td>\n",
       "      <td>672</td>\n",
       "      <td>5</td>\n",
       "      <td>bagus sesuai harapan penjual nya juga ramah. t...</td>\n",
       "      <td>Positive</td>\n",
       "      <td>Happy</td>\n",
       "    </tr>\n",
       "    <tr>\n",
       "      <th>4</th>\n",
       "      <td>Computers and Laptops</td>\n",
       "      <td>ADAPTOR CHARGER MONITOR LCD LED TV LG merek LG...</td>\n",
       "      <td>Jakarta Timur</td>\n",
       "      <td>55000</td>\n",
       "      <td>4.7</td>\n",
       "      <td>2030</td>\n",
       "      <td>672</td>\n",
       "      <td>5</td>\n",
       "      <td>Barang Bagus, pengemasan Aman, dapat Berfungsi...</td>\n",
       "      <td>Positive</td>\n",
       "      <td>Happy</td>\n",
       "    </tr>\n",
       "  </tbody>\n",
       "</table>\n",
       "</div>"
      ],
      "text/plain": [
       "                Category                                       Product Name  \\\n",
       "0  Computers and Laptops  Wireless Keyboard i8 Mini TouchPad Mouse 2.4G ...   \n",
       "1  Computers and Laptops  PAKET LISENSI WINDOWS 10 PRO DAN OFFICE 2019 O...   \n",
       "2  Computers and Laptops                SSD Midasforce 128 Gb - Tanpa Caddy   \n",
       "3  Computers and Laptops  ADAPTOR CHARGER MONITOR LCD LED TV LG merek LG...   \n",
       "4  Computers and Laptops  ADAPTOR CHARGER MONITOR LCD LED TV LG merek LG...   \n",
       "\n",
       "                 Location   Price  Overall Rating  Number Sold  Total Review  \\\n",
       "0           Jakarta Utara   53500             4.9         5449          2369   \n",
       "1  Kota Tangerang Selatan   72000             4.9         2359          1044   \n",
       "2           Jakarta Barat  213000             5.0        12300          3573   \n",
       "3           Jakarta Timur   55000             4.7         2030           672   \n",
       "4           Jakarta Timur   55000             4.7         2030           672   \n",
       "\n",
       "   Customer Rating                                    Customer Review  \\\n",
       "0                5  Alhamdulillah berfungsi dengan baik. Packaging...   \n",
       "1                5  barang bagus dan respon cepat, harga bersaing ...   \n",
       "2                5  barang bagus, berfungsi dengan baik, seler ram...   \n",
       "3                5  bagus sesuai harapan penjual nya juga ramah. t...   \n",
       "4                5  Barang Bagus, pengemasan Aman, dapat Berfungsi...   \n",
       "\n",
       "  Sentiment Emotion  \n",
       "0  Positive   Happy  \n",
       "1  Positive   Happy  \n",
       "2  Positive   Happy  \n",
       "3  Positive   Happy  \n",
       "4  Positive   Happy  "
      ]
     },
     "execution_count": 93,
     "metadata": {},
     "output_type": "execute_result"
    }
   ],
   "source": [
    "df = pd.read_csv('./../dataset/PRDECT-ID Dataset.csv')\n",
    "df.head()"
   ]
  },
  {
   "cell_type": "markdown",
   "metadata": {},
   "source": [
    "# Data Preparation and Cleaning"
   ]
  },
  {
   "cell_type": "code",
   "execution_count": 94,
   "metadata": {},
   "outputs": [
    {
     "name": "stdout",
     "output_type": "stream",
     "text": [
      "Emotion Value Count Group by Sentiment:\n",
      "Sentiment  Emotion\n",
      "Negative   Sadness    1202\n",
      "           Fear        920\n",
      "           Anger       699\n",
      "Positive   Happy      1770\n",
      "           Love        809\n",
      "Name: count, dtype: int64\n"
     ]
    }
   ],
   "source": [
    "print('Emotion Value Count Group by Sentiment:')\n",
    "print(df.groupby('Sentiment')['Emotion'].value_counts())"
   ]
  },
  {
   "cell_type": "code",
   "execution_count": 95,
   "metadata": {},
   "outputs": [],
   "source": [
    "# Drop unnecessary columns\n",
    "df.drop(columns=[\n",
    "    'Category', 'Product Name', 'Location', 'Price', \n",
    "    'Overall Rating', 'Number Sold', 'Total Review', \n",
    "    'Customer Rating', 'Emotion'\n",
    "], inplace=True)"
   ]
  },
  {
   "cell_type": "code",
   "execution_count": 96,
   "metadata": {},
   "outputs": [
    {
     "name": "stdout",
     "output_type": "stream",
     "text": [
      "Shape before Cleaning:  (5400, 2)\n"
     ]
    }
   ],
   "source": [
    "# Shape before cleaning\n",
    "print('Shape before Cleaning: ', df.shape)"
   ]
  },
  {
   "cell_type": "code",
   "execution_count": 97,
   "metadata": {},
   "outputs": [
    {
     "name": "stdout",
     "output_type": "stream",
     "text": [
      "Missing Values:\n",
      "Customer Review    0\n",
      "Sentiment          0\n",
      "dtype: int64\n"
     ]
    }
   ],
   "source": [
    "# Check for missing values\n",
    "print('Missing Values:')\n",
    "print(df.isnull().sum())"
   ]
  },
  {
   "cell_type": "code",
   "execution_count": 98,
   "metadata": {},
   "outputs": [
    {
     "name": "stdout",
     "output_type": "stream",
     "text": [
      "Before Drop Duplicates:\n",
      "Duplicates:  95\n",
      "Duplicate Rows:\n",
      "                                        Customer Review Sentiment\n",
      "29    mantap kipasnya kenceng, barangnya berkualitas...  Positive\n",
      "72    tidak berfungsi, tapi yaa sudahlah sudah ditam...  Negative\n",
      "78      Sangat kecewa. Baru 4 bulan scroll sudah rusak.  Negative\n",
      "189   biarkan gambar bercerita.. pesan 20 bh yg rusa...  Negative\n",
      "190   Seharusnya chat dijadikan makesure barang, war...  Negative\n",
      "...                                                 ...       ...\n",
      "4032                             Pengiriman sangat lama  Negative\n",
      "4144  Packing seadanya, bubble hanya selapis saja di...  Negative\n",
      "4910                        packingnya kurang memuaskan  Negative\n",
      "5173  Pengiriman cepat. Pesanan sesuai. Gak ada caca...  Positive\n",
      "5278                                       bagus banget  Positive\n",
      "\n",
      "[95 rows x 2 columns]\n"
     ]
    }
   ],
   "source": [
    "# Check for duplicates\n",
    "print('Before Drop Duplicates:')\n",
    "print('Duplicates: ', df.duplicated().sum())\n",
    "print('Duplicate Rows:')\n",
    "print(df[df.duplicated()])"
   ]
  },
  {
   "cell_type": "code",
   "execution_count": 99,
   "metadata": {},
   "outputs": [
    {
     "name": "stdout",
     "output_type": "stream",
     "text": [
      "After Drop Duplicates:\n",
      "Duplicates:  0\n",
      "Duplicate Rows:\n",
      "Empty DataFrame\n",
      "Columns: [Customer Review, Sentiment]\n",
      "Index: []\n"
     ]
    }
   ],
   "source": [
    "# Drop duplicates\n",
    "df.drop_duplicates(inplace=True)\n",
    "\n",
    "# Check for duplicates\n",
    "print('After Drop Duplicates:')\n",
    "print('Duplicates: ', df.duplicated().sum())\n",
    "print('Duplicate Rows:')\n",
    "print(df[df.duplicated()])"
   ]
  },
  {
   "cell_type": "code",
   "execution_count": 100,
   "metadata": {},
   "outputs": [
    {
     "name": "stdout",
     "output_type": "stream",
     "text": [
      "Shape after Cleaning:  (5305, 2)\n"
     ]
    }
   ],
   "source": [
    "# Shape after cleaning\n",
    "print('Shape after Cleaning: ', df.shape)"
   ]
  },
  {
   "cell_type": "markdown",
   "metadata": {},
   "source": [
    "# Label Id Dictionary"
   ]
  },
  {
   "cell_type": "code",
   "execution_count": 101,
   "metadata": {},
   "outputs": [
    {
     "name": "stdout",
     "output_type": "stream",
     "text": [
      "Label Names: ['Negative', 'Positive']\n"
     ]
    }
   ],
   "source": [
    "labels = df['Sentiment'].tolist()\n",
    "labels = list(set(labels))\n",
    "print(f'Label Names: {labels}')\n",
    "\n",
    "utils = {\n",
    "    'id2label': {idx: label for idx, label in enumerate(labels)},\n",
    "    'label2id': {label: idx for idx, label in enumerate(labels)}\n",
    "}\n",
    "\n"
   ]
  },
  {
   "cell_type": "markdown",
   "metadata": {},
   "source": [
    "# Preprocess Text"
   ]
  },
  {
   "cell_type": "code",
   "execution_count": 102,
   "metadata": {},
   "outputs": [],
   "source": [
    "from nltk.tokenize import word_tokenize\n",
    "from Sastrawi.Stemmer.StemmerFactory import StemmerFactory\n",
    "from Sastrawi.StopWordRemover.StopWordRemoverFactory import StopWordRemoverFactory\n",
    "import string"
   ]
  },
  {
   "cell_type": "code",
   "execution_count": 103,
   "metadata": {},
   "outputs": [
    {
     "name": "stdout",
     "output_type": "stream",
     "text": [
      "Stopwords: ['yang', 'untuk', 'pada', 'ke', 'para', 'namun', 'menurut', 'antara', 'dia', 'dua', 'ia', 'seperti', 'jika', 'jika', 'sehingga', 'kembali', 'dan', 'tidak', 'ini', 'karena', 'kepada', 'oleh', 'saat', 'harus', 'sementara', 'setelah', 'belum', 'kami', 'sekitar', 'bagi', 'serta', 'di', 'dari', 'telah', 'sebagai', 'masih', 'hal', 'ketika', 'adalah', 'itu', 'dalam', 'bisa', 'bahwa', 'atau', 'hanya', 'kita', 'dengan', 'akan', 'juga', 'ada', 'mereka', 'sudah', 'saya', 'terhadap', 'secara', 'agar', 'lain', 'anda', 'begitu', 'mengapa', 'kenapa', 'yaitu', 'yakni', 'daripada', 'itulah', 'lagi', 'maka', 'tentang', 'demi', 'dimana', 'kemana', 'pula', 'sambil', 'sebelum', 'sesudah', 'supaya', 'guna', 'kah', 'pun', 'sampai', 'sedangkan', 'selagi', 'sementara', 'tetapi', 'apakah', 'kecuali', 'sebab', 'selain', 'seolah', 'seraya', 'seterusnya', 'tanpa', 'agak', 'boleh', 'dapat', 'dsb', 'dst', 'dll', 'dahulu', 'dulunya', 'anu', 'demikian', 'tapi', 'ingin', 'juga', 'nggak', 'mari', 'nanti', 'melainkan', 'oh', 'ok', 'seharusnya', 'sebetulnya', 'setiap', 'setidaknya', 'sesuatu', 'pasti', 'saja', 'toh', 'ya', 'walau', 'tolong', 'tentu', 'amat', 'apalagi', 'bagaimanapun', 'yg', 'nya', 'aja', 'dg', 'dgn', 'ga', 'gak', 'gk', 'tdk', 'tpi', 'jg', 'krn', 'udah', 'sy', 'sdh', 'lah', 'deh', 'ngga']\n",
      "Punctuation: !\"#$%&'()*+,-./:;<=>?@[\\]^_`{|}~\n",
      "Number Words: ['nol', 'satu', 'dua', 'tiga', 'empat', 'lima', 'enam', 'tujuh', 'delapan', 'sembilan', 'sepuluh']\n",
      "Utils: {'id2label': {0: 'Negative', 1: 'Positive'}, 'label2id': {'Negative': 0, 'Positive': 1}, 'stopwords': ['yang', 'untuk', 'pada', 'ke', 'para', 'namun', 'menurut', 'antara', 'dia', 'dua', 'ia', 'seperti', 'jika', 'jika', 'sehingga', 'kembali', 'dan', 'tidak', 'ini', 'karena', 'kepada', 'oleh', 'saat', 'harus', 'sementara', 'setelah', 'belum', 'kami', 'sekitar', 'bagi', 'serta', 'di', 'dari', 'telah', 'sebagai', 'masih', 'hal', 'ketika', 'adalah', 'itu', 'dalam', 'bisa', 'bahwa', 'atau', 'hanya', 'kita', 'dengan', 'akan', 'juga', 'ada', 'mereka', 'sudah', 'saya', 'terhadap', 'secara', 'agar', 'lain', 'anda', 'begitu', 'mengapa', 'kenapa', 'yaitu', 'yakni', 'daripada', 'itulah', 'lagi', 'maka', 'tentang', 'demi', 'dimana', 'kemana', 'pula', 'sambil', 'sebelum', 'sesudah', 'supaya', 'guna', 'kah', 'pun', 'sampai', 'sedangkan', 'selagi', 'sementara', 'tetapi', 'apakah', 'kecuali', 'sebab', 'selain', 'seolah', 'seraya', 'seterusnya', 'tanpa', 'agak', 'boleh', 'dapat', 'dsb', 'dst', 'dll', 'dahulu', 'dulunya', 'anu', 'demikian', 'tapi', 'ingin', 'juga', 'nggak', 'mari', 'nanti', 'melainkan', 'oh', 'ok', 'seharusnya', 'sebetulnya', 'setiap', 'setidaknya', 'sesuatu', 'pasti', 'saja', 'toh', 'ya', 'walau', 'tolong', 'tentu', 'amat', 'apalagi', 'bagaimanapun', 'yg', 'nya', 'aja', 'dg', 'dgn', 'ga', 'gak', 'gk', 'tdk', 'tpi', 'jg', 'krn', 'udah', 'sy', 'sdh', 'lah', 'deh', 'ngga'], 'punctuation': '!\"#$%&\\'()*+,-./:;<=>?@[\\\\]^_`{|}~', 'num_words': ['nol', 'satu', 'dua', 'tiga', 'empat', 'lima', 'enam', 'tujuh', 'delapan', 'sembilan', 'sepuluh']}\n"
     ]
    }
   ],
   "source": [
    "stemmer = StemmerFactory().create_stemmer()\n",
    "\n",
    "stopwords = StopWordRemoverFactory().get_stop_words()\n",
    "# add slang words\n",
    "stopwords.extend(['yg', 'nya', 'aja', 'dg', 'dgn', 'ga', 'gak', 'gk', 'tdk', 'tpi', 'jg', 'krn', 'udah', 'sy', 'sdh', 'lah', 'deh', 'ngga']) \n",
    "\n",
    "punctuation = string.punctuation\n",
    "\n",
    "# add number words\n",
    "num_words = ['nol', 'satu', 'dua', 'tiga', 'empat', 'lima', 'enam', 'tujuh', 'delapan', 'sembilan', 'sepuluh']\n",
    "\n",
    "print(f'Stopwords: {stopwords}')\n",
    "print(f'Punctuation: {punctuation}')\n",
    "print(f'Number Words: {num_words}')\n",
    "\n",
    "utils['stopwords'] = stopwords\n",
    "utils['punctuation'] = punctuation\n",
    "utils['num_words'] = num_words\n",
    "\n",
    "print(f'Utils: {utils}')"
   ]
  },
  {
   "cell_type": "code",
   "execution_count": 104,
   "metadata": {},
   "outputs": [],
   "source": [
    "def preprocess_text(sentence):\n",
    "    word_list = word_tokenize(sentence.lower()) \n",
    "    word_list = [word for word in word_list if word not in punctuation]\n",
    "    word_list = [word for word in word_list if ((word not in num_words) and (word.isalpha()))]\n",
    "    word_list = [stemmer.stem(word) for word in word_list if word not in stopwords]\n",
    "    return ' '.join(word_list)"
   ]
  },
  {
   "cell_type": "code",
   "execution_count": 105,
   "metadata": {},
   "outputs": [
    {
     "data": {
      "text/html": [
       "<div>\n",
       "<style scoped>\n",
       "    .dataframe tbody tr th:only-of-type {\n",
       "        vertical-align: middle;\n",
       "    }\n",
       "\n",
       "    .dataframe tbody tr th {\n",
       "        vertical-align: top;\n",
       "    }\n",
       "\n",
       "    .dataframe thead th {\n",
       "        text-align: right;\n",
       "    }\n",
       "</style>\n",
       "<table border=\"1\" class=\"dataframe\">\n",
       "  <thead>\n",
       "    <tr style=\"text-align: right;\">\n",
       "      <th></th>\n",
       "      <th>text</th>\n",
       "      <th>id</th>\n",
       "    </tr>\n",
       "  </thead>\n",
       "  <tbody>\n",
       "    <tr>\n",
       "      <th>0</th>\n",
       "      <td>alhamdulillah fungsi baik packaging aman respo...</td>\n",
       "      <td>1</td>\n",
       "    </tr>\n",
       "    <tr>\n",
       "      <th>1</th>\n",
       "      <td>barang bagus respon cepat harga saing</td>\n",
       "      <td>1</td>\n",
       "    </tr>\n",
       "    <tr>\n",
       "      <th>2</th>\n",
       "      <td>barang bagus fungsi baik seler ramah kirim cepat</td>\n",
       "      <td>1</td>\n",
       "    </tr>\n",
       "    <tr>\n",
       "      <th>3</th>\n",
       "      <td>bagus sesuai harap jual ramah trimakasih lapak</td>\n",
       "      <td>1</td>\n",
       "    </tr>\n",
       "    <tr>\n",
       "      <th>4</th>\n",
       "      <td>barang bagus emas aman fungsi baik</td>\n",
       "      <td>1</td>\n",
       "    </tr>\n",
       "  </tbody>\n",
       "</table>\n",
       "</div>"
      ],
      "text/plain": [
       "                                                text  id\n",
       "0  alhamdulillah fungsi baik packaging aman respo...   1\n",
       "1              barang bagus respon cepat harga saing   1\n",
       "2   barang bagus fungsi baik seler ramah kirim cepat   1\n",
       "3     bagus sesuai harap jual ramah trimakasih lapak   1\n",
       "4                 barang bagus emas aman fungsi baik   1"
      ]
     },
     "execution_count": 105,
     "metadata": {},
     "output_type": "execute_result"
    }
   ],
   "source": [
    "df_clean = pd.DataFrame(columns=['text', 'id'])\n",
    "df_clean['text'] = df['Customer Review'].apply(preprocess_text)\n",
    "df_clean['id'] = df['Sentiment'].map(utils['label2id'])\n",
    "\n",
    "# Drop empty text\n",
    "empty_text = df_clean[df_clean['text'] == '']\n",
    "df_clean.drop(empty_text.index, inplace=True)\n",
    "df_clean.reset_index(drop=True, inplace=True)\n",
    "\n",
    "df_clean.head()"
   ]
  },
  {
   "cell_type": "markdown",
   "metadata": {},
   "source": [
    "# Save Cleaned DataFrame and Utils Dictionary"
   ]
  },
  {
   "cell_type": "code",
   "execution_count": 106,
   "metadata": {},
   "outputs": [],
   "source": [
    "import json\n",
    "\n",
    "# Save the dictionary\n",
    "with open('./utils.json', 'w') as f:\n",
    "    json.dump(utils, f)"
   ]
  },
  {
   "cell_type": "code",
   "execution_count": 107,
   "metadata": {},
   "outputs": [],
   "source": [
    "df_clean.to_csv('./../dataset/cleaned_dataset.csv', index=False)"
   ]
  }
 ],
 "metadata": {
  "kernelspec": {
   "display_name": "srnlp",
   "language": "python",
   "name": "python3"
  },
  "language_info": {
   "codemirror_mode": {
    "name": "ipython",
    "version": 3
   },
   "file_extension": ".py",
   "mimetype": "text/x-python",
   "name": "python",
   "nbconvert_exporter": "python",
   "pygments_lexer": "ipython3",
   "version": "3.11.9"
  }
 },
 "nbformat": 4,
 "nbformat_minor": 2
}
